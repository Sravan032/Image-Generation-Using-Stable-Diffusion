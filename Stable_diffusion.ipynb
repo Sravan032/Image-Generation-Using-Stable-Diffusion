
# Step 1: Install Dependencies
!pip install diffusers transformers accelerate safetensors

# Step 2: Import Required Libraries
from diffusers import StableDiffusionPipeline
import torch
from google.colab import files

# Step 3: Load Stable Diffusion Model
model_id = "runwayml/stable-diffusion-v1-5"
pipe = StableDiffusionPipeline.from_pretrained(model_id, torch_dtype=torch.float16)
pipe.to("cuda")

# Step 4: Generate Multiple Images
prompts = [
    "A futuristic cyberpunk city at night with neon lights",
    "A scenic mountain landscape with a clear blue sky",
    "A magical forest with glowing mushrooms and fairies"
]

images = []
for i, prompt in enumerate(prompts):
    image = pipe(prompt).images[0]
    image.save(f"generated_image_{i+1}.png")
    images.append(image)

# Step 5: Display and Save the Images
for i, image in enumerate(images):
    image.show()
    files.download(f"generated_image_{i+1}.png")

